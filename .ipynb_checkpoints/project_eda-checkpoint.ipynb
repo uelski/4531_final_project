{
 "cells": [
  {
   "cell_type": "code",
   "execution_count": 2,
   "id": "cd358165",
   "metadata": {
    "vscode": {
     "languageId": "plaintext"
    }
   },
   "outputs": [],
   "source": [
    "import json\n",
    "import pandas as pd"
   ]
  },
  {
   "cell_type": "code",
   "execution_count": 3,
   "id": "c39b6ac4",
   "metadata": {
    "vscode": {
     "languageId": "plaintext"
    }
   },
   "outputs": [],
   "source": [
    "with open('CAIC_Forecasts.json', 'r') as file:\n",
    "    forecasts = json.load(file)"
   ]
  },
  {
   "cell_type": "code",
   "execution_count": 4,
   "id": "0ac2c4db-dda1-4f5b-8a56-1f583510488c",
   "metadata": {},
   "outputs": [],
   "source": [
    "for forecast in forecasts:\n",
    "    forecast.pop('polygons', None)\n",
    "    \n",
    "    summary_dict = json.loads(forecast['Summary'])\n",
    "    forecast['Summary_en'] = summary_dict.get('en', None)"
   ]
  },
  {
   "cell_type": "code",
   "execution_count": 5,
   "id": "feb0da97-6328-4cb2-817c-d770f1fd3698",
   "metadata": {},
   "outputs": [
    {
     "data": {
      "text/html": [
       "<div>\n",
       "<style scoped>\n",
       "    .dataframe tbody tr th:only-of-type {\n",
       "        vertical-align: middle;\n",
       "    }\n",
       "\n",
       "    .dataframe tbody tr th {\n",
       "        vertical-align: top;\n",
       "    }\n",
       "\n",
       "    .dataframe thead th {\n",
       "        text-align: right;\n",
       "    }\n",
       "</style>\n",
       "<table border=\"1\" class=\"dataframe\">\n",
       "  <thead>\n",
       "    <tr style=\"text-align: right;\">\n",
       "      <th></th>\n",
       "      <th>id</th>\n",
       "      <th>Issued Date</th>\n",
       "      <th>date</th>\n",
       "      <th>Last Modified</th>\n",
       "      <th>Expiry</th>\n",
       "      <th>Day</th>\n",
       "      <th>Above Treeline</th>\n",
       "      <th>Treeline</th>\n",
       "      <th>Below Treeline</th>\n",
       "      <th>Summary</th>\n",
       "      <th>Summary_en</th>\n",
       "    </tr>\n",
       "  </thead>\n",
       "  <tbody>\n",
       "    <tr>\n",
       "      <th>0</th>\n",
       "      <td>534290d5-888d-4f06-9be5-9f97ff325206</td>\n",
       "      <td>2023-11-01T13:15:59.054Z</td>\n",
       "      <td>2023-11-01</td>\n",
       "      <td>2023-11-01T13:20:57Z</td>\n",
       "      <td>2023-11-01T22:30:25.134Z</td>\n",
       "      <td>issueDate</td>\n",
       "      <td>low</td>\n",
       "      <td>low</td>\n",
       "      <td>low</td>\n",
       "      <td>{\"en\": \"\"}</td>\n",
       "      <td></td>\n",
       "    </tr>\n",
       "    <tr>\n",
       "      <th>1</th>\n",
       "      <td>4ff007af-d822-46ae-b9fc-9ca0c1ccea89</td>\n",
       "      <td>2023-11-01T13:15:59.435Z</td>\n",
       "      <td>2023-11-01</td>\n",
       "      <td>2023-11-01T13:21:06Z</td>\n",
       "      <td>2023-11-01T22:30:00.000Z</td>\n",
       "      <td>issueDate</td>\n",
       "      <td>noForecast</td>\n",
       "      <td>noForecast</td>\n",
       "      <td>noForecast</td>\n",
       "      <td>{\"en\": \"\"}</td>\n",
       "      <td></td>\n",
       "    </tr>\n",
       "    <tr>\n",
       "      <th>2</th>\n",
       "      <td>8d1f9204-2c90-40df-92c4-23760e375efd</td>\n",
       "      <td>2023-11-01T13:15:59.571Z</td>\n",
       "      <td>2023-11-01</td>\n",
       "      <td>2023-11-01T13:21:02Z</td>\n",
       "      <td>2023-11-01T22:30:18.525Z</td>\n",
       "      <td>issueDate</td>\n",
       "      <td>low</td>\n",
       "      <td>low</td>\n",
       "      <td>low</td>\n",
       "      <td>{\"en\": \"\"}</td>\n",
       "      <td></td>\n",
       "    </tr>\n",
       "    <tr>\n",
       "      <th>3</th>\n",
       "      <td>a76838f4-11e7-48c4-850d-1b6ee3dd388d</td>\n",
       "      <td>2023-11-01T13:15:59.883Z</td>\n",
       "      <td>2023-11-01</td>\n",
       "      <td>2023-11-01T13:20:52Z</td>\n",
       "      <td>2023-11-01T22:30:02.651Z</td>\n",
       "      <td>issueDate</td>\n",
       "      <td>moderate</td>\n",
       "      <td>moderate</td>\n",
       "      <td>low</td>\n",
       "      <td>{\"en\": \"\"}</td>\n",
       "      <td></td>\n",
       "    </tr>\n",
       "    <tr>\n",
       "      <th>4</th>\n",
       "      <td>3c9d3f41-454d-42e8-9f2c-aeb952aa463c</td>\n",
       "      <td>2023-11-01T19:45:59.379Z</td>\n",
       "      <td>2023-11-01</td>\n",
       "      <td>2023-11-01T19:57:06Z</td>\n",
       "      <td>2023-11-01T22:30:02.651Z</td>\n",
       "      <td>issueDate</td>\n",
       "      <td>moderate</td>\n",
       "      <td>moderate</td>\n",
       "      <td>low</td>\n",
       "      <td>{\"en\": \"\"}</td>\n",
       "      <td></td>\n",
       "    </tr>\n",
       "  </tbody>\n",
       "</table>\n",
       "</div>"
      ],
      "text/plain": [
       "                                     id               Issued Date        date  \\\n",
       "0  534290d5-888d-4f06-9be5-9f97ff325206  2023-11-01T13:15:59.054Z  2023-11-01   \n",
       "1  4ff007af-d822-46ae-b9fc-9ca0c1ccea89  2023-11-01T13:15:59.435Z  2023-11-01   \n",
       "2  8d1f9204-2c90-40df-92c4-23760e375efd  2023-11-01T13:15:59.571Z  2023-11-01   \n",
       "3  a76838f4-11e7-48c4-850d-1b6ee3dd388d  2023-11-01T13:15:59.883Z  2023-11-01   \n",
       "4  3c9d3f41-454d-42e8-9f2c-aeb952aa463c  2023-11-01T19:45:59.379Z  2023-11-01   \n",
       "\n",
       "          Last Modified                    Expiry        Day Above Treeline  \\\n",
       "0  2023-11-01T13:20:57Z  2023-11-01T22:30:25.134Z  issueDate            low   \n",
       "1  2023-11-01T13:21:06Z  2023-11-01T22:30:00.000Z  issueDate     noForecast   \n",
       "2  2023-11-01T13:21:02Z  2023-11-01T22:30:18.525Z  issueDate            low   \n",
       "3  2023-11-01T13:20:52Z  2023-11-01T22:30:02.651Z  issueDate       moderate   \n",
       "4  2023-11-01T19:57:06Z  2023-11-01T22:30:02.651Z  issueDate       moderate   \n",
       "\n",
       "     Treeline Below Treeline     Summary Summary_en  \n",
       "0         low            low  {\"en\": \"\"}             \n",
       "1  noForecast     noForecast  {\"en\": \"\"}             \n",
       "2         low            low  {\"en\": \"\"}             \n",
       "3    moderate            low  {\"en\": \"\"}             \n",
       "4    moderate            low  {\"en\": \"\"}             "
      ]
     },
     "execution_count": 5,
     "metadata": {},
     "output_type": "execute_result"
    }
   ],
   "source": [
    "forecast_df = pd.DataFrame(forecasts)\n",
    "forecast_df.head(5)"
   ]
  },
  {
   "cell_type": "code",
   "execution_count": 6,
   "id": "ca3e9382-8ce9-4af2-9f6a-bcccc3fd12fe",
   "metadata": {},
   "outputs": [
    {
     "data": {
      "text/plain": [
       "id                0\n",
       "Issued Date       0\n",
       "date              0\n",
       "Last Modified     0\n",
       "Expiry            0\n",
       "Day               0\n",
       "Above Treeline    0\n",
       "Treeline          0\n",
       "Below Treeline    0\n",
       "Summary           0\n",
       "Summary_en        1\n",
       "dtype: int64"
      ]
     },
     "execution_count": 6,
     "metadata": {},
     "output_type": "execute_result"
    }
   ],
   "source": [
    "forecast_df.isna().sum()"
   ]
  },
  {
   "cell_type": "code",
   "execution_count": 7,
   "id": "1274eea0-7fcb-432b-a554-1e9b36c4f2bf",
   "metadata": {},
   "outputs": [],
   "source": [
    "forecast_df = forecast_df[forecast_df['Summary_en'] != \"\"]"
   ]
  },
  {
   "cell_type": "code",
   "execution_count": 8,
   "id": "180be626-5271-422b-8ca7-2350cdd87434",
   "metadata": {},
   "outputs": [
    {
     "data": {
      "text/plain": [
       "3334"
      ]
     },
     "execution_count": 8,
     "metadata": {},
     "output_type": "execute_result"
    }
   ],
   "source": [
    "len(forecast_df)"
   ]
  },
  {
   "cell_type": "code",
   "execution_count": 10,
   "id": "401eb658-aa7a-4308-8f86-342f86467221",
   "metadata": {},
   "outputs": [],
   "source": [
    "forecast_df = forecast_df[(forecast_df['Below Treeline'] != \"noRating\") & (forecast_df['Treeline'] != \"noRating\") & (forecast_df['Above Treeline'] != \"noRating\")]"
   ]
  },
  {
   "cell_type": "code",
   "execution_count": 11,
   "id": "26d6d9ab-8447-4353-af17-193b12cc36d2",
   "metadata": {},
   "outputs": [
    {
     "data": {
      "text/plain": [
       "3177"
      ]
     },
     "execution_count": 11,
     "metadata": {},
     "output_type": "execute_result"
    }
   ],
   "source": [
    "len(forecast_df)"
   ]
  },
  {
   "cell_type": "code",
   "execution_count": 12,
   "id": "03b9979e-1014-480c-a919-fab14fa9e283",
   "metadata": {},
   "outputs": [
    {
     "data": {
      "text/plain": [
       "Above Treeline\n",
       "moderate        1457\n",
       "considerable     903\n",
       "low              662\n",
       "high             137\n",
       "earlySeason       18\n",
       "Name: count, dtype: int64"
      ]
     },
     "execution_count": 12,
     "metadata": {},
     "output_type": "execute_result"
    }
   ],
   "source": [
    "forecast_df['Above Treeline'].value_counts()"
   ]
  },
  {
   "cell_type": "code",
   "execution_count": 13,
   "id": "7c6466a1-0a1a-4dcb-a6c2-009909e63d9b",
   "metadata": {},
   "outputs": [
    {
     "data": {
      "text/plain": [
       "id                object\n",
       "Issued Date       object\n",
       "date              object\n",
       "Last Modified     object\n",
       "Expiry            object\n",
       "Day               object\n",
       "Above Treeline    object\n",
       "Treeline          object\n",
       "Below Treeline    object\n",
       "Summary           object\n",
       "Summary_en        object\n",
       "dtype: object"
      ]
     },
     "execution_count": 13,
     "metadata": {},
     "output_type": "execute_result"
    }
   ],
   "source": [
    "forecast_df.dtypes"
   ]
  },
  {
   "cell_type": "code",
   "execution_count": 14,
   "id": "398f11df-6073-4b81-9b11-624c9159b83b",
   "metadata": {},
   "outputs": [],
   "source": [
    "from bs4 import BeautifulSoup as bsoup\n",
    "def strip_html(html):\n",
    "    text = str(html)\n",
    "    return bsoup(text, \"html.parser\").get_text()\n",
    "    \n",
    "forecast_df['Summary_clean'] = forecast_df['Summary_en'].apply(strip_html)"
   ]
  },
  {
   "cell_type": "code",
   "execution_count": 15,
   "id": "522f4476-810e-4a39-9139-a77385fc2a03",
   "metadata": {},
   "outputs": [
    {
     "data": {
      "text/plain": [
       "id                object\n",
       "Issued Date       object\n",
       "date              object\n",
       "Last Modified     object\n",
       "Expiry            object\n",
       "Day               object\n",
       "Above Treeline    object\n",
       "Treeline          object\n",
       "Below Treeline    object\n",
       "Summary           object\n",
       "Summary_en        object\n",
       "Summary_clean     object\n",
       "dtype: object"
      ]
     },
     "execution_count": 15,
     "metadata": {},
     "output_type": "execute_result"
    }
   ],
   "source": [
    "forecast_df.dtypes"
   ]
  },
  {
   "cell_type": "code",
   "execution_count": 16,
   "id": "2c3f9ef5-b1a5-4231-b3cf-bf99835eb33f",
   "metadata": {},
   "outputs": [
    {
     "data": {
      "text/plain": [
       "(3177, 12)"
      ]
     },
     "execution_count": 16,
     "metadata": {},
     "output_type": "execute_result"
    }
   ],
   "source": [
    "forecast_df.shape"
   ]
  },
  {
   "cell_type": "code",
   "execution_count": 17,
   "id": "6ca1d72f-f248-4418-bee1-b9c4ba512886",
   "metadata": {},
   "outputs": [],
   "source": [
    "forecast_df = forecast_df[forecast_df['Summary_clean'] != \"\"]"
   ]
  },
  {
   "cell_type": "code",
   "execution_count": 18,
   "id": "bd59dfd6-2ce8-4ce8-8085-d57fa4dd477e",
   "metadata": {},
   "outputs": [
    {
     "data": {
      "text/plain": [
       "(2885, 12)"
      ]
     },
     "execution_count": 18,
     "metadata": {},
     "output_type": "execute_result"
    }
   ],
   "source": [
    "forecast_df.shape"
   ]
  },
  {
   "cell_type": "code",
   "execution_count": 20,
   "id": "a431d99b-a920-479c-b7cb-3f821eaef5de",
   "metadata": {},
   "outputs": [],
   "source": [
    "forecast_df[\"datetime\"] = pd.to_datetime(forecast_df[\"date\"])"
   ]
  },
  {
   "cell_type": "code",
   "execution_count": 21,
   "id": "b765e9a5-fa59-4ab8-ad6c-6a9d70481e82",
   "metadata": {},
   "outputs": [
    {
     "data": {
      "text/plain": [
       "Timestamp('2025-01-27 00:00:00')"
      ]
     },
     "execution_count": 21,
     "metadata": {},
     "output_type": "execute_result"
    }
   ],
   "source": [
    "forecast_df[\"datetime\"].max()"
   ]
  },
  {
   "cell_type": "code",
   "execution_count": 23,
   "id": "13cdffd0-a15c-4083-a9d2-fa26fee40425",
   "metadata": {},
   "outputs": [
    {
     "data": {
      "text/plain": [
       "id                        object\n",
       "Issued Date               object\n",
       "date                      object\n",
       "Last Modified             object\n",
       "Expiry                    object\n",
       "Day                       object\n",
       "Above Treeline            object\n",
       "Treeline                  object\n",
       "Below Treeline            object\n",
       "Summary                   object\n",
       "Summary_en                object\n",
       "Summary_clean             object\n",
       "datetime          datetime64[ns]\n",
       "dtype: object"
      ]
     },
     "execution_count": 23,
     "metadata": {},
     "output_type": "execute_result"
    }
   ],
   "source": [
    "forecast_df.dtypes"
   ]
  },
  {
   "cell_type": "code",
   "execution_count": 24,
   "id": "7f7435c3-14ae-470e-9de0-d270d391815a",
   "metadata": {},
   "outputs": [
    {
     "data": {
      "text/html": [
       "<div>\n",
       "<style scoped>\n",
       "    .dataframe tbody tr th:only-of-type {\n",
       "        vertical-align: middle;\n",
       "    }\n",
       "\n",
       "    .dataframe tbody tr th {\n",
       "        vertical-align: top;\n",
       "    }\n",
       "\n",
       "    .dataframe thead th {\n",
       "        text-align: right;\n",
       "    }\n",
       "</style>\n",
       "<table border=\"1\" class=\"dataframe\">\n",
       "  <thead>\n",
       "    <tr style=\"text-align: right;\">\n",
       "      <th></th>\n",
       "      <th>id</th>\n",
       "      <th>Issued Date</th>\n",
       "      <th>date</th>\n",
       "      <th>Last Modified</th>\n",
       "      <th>Expiry</th>\n",
       "      <th>Day</th>\n",
       "      <th>Above Treeline</th>\n",
       "      <th>Treeline</th>\n",
       "      <th>Below Treeline</th>\n",
       "      <th>Summary</th>\n",
       "      <th>Summary_en</th>\n",
       "      <th>Summary_clean</th>\n",
       "      <th>datetime</th>\n",
       "    </tr>\n",
       "  </thead>\n",
       "  <tbody>\n",
       "    <tr>\n",
       "      <th>5</th>\n",
       "      <td>0bb40c21-682a-4987-8a92-1ae9a4a00d40</td>\n",
       "      <td>2023-11-01T22:30:00Z</td>\n",
       "      <td>2023-11-01</td>\n",
       "      <td>2023-11-01T20:59:05Z</td>\n",
       "      <td>2023-11-02T22:30:00Z</td>\n",
       "      <td>issueDatePlusOne</td>\n",
       "      <td>low</td>\n",
       "      <td>low</td>\n",
       "      <td>low</td>\n",
       "      <td>{\"en\": \"&lt;p&gt;The only place where you can trigge...</td>\n",
       "      <td>&lt;p&gt;The only place where you can trigger an ava...</td>\n",
       "      <td>The only place where you can trigger an avalan...</td>\n",
       "      <td>2023-11-01</td>\n",
       "    </tr>\n",
       "    <tr>\n",
       "      <th>9</th>\n",
       "      <td>f2ffe07c-7cc2-4a22-a6b5-05cbca464ff1</td>\n",
       "      <td>2023-11-02T22:30:00Z</td>\n",
       "      <td>2023-11-02</td>\n",
       "      <td>2023-11-03T11:37:00Z</td>\n",
       "      <td>2023-11-03T22:30:00Z</td>\n",
       "      <td>issueDatePlusOne</td>\n",
       "      <td>moderate</td>\n",
       "      <td>moderate</td>\n",
       "      <td>low</td>\n",
       "      <td>{\"en\": \"&lt;p&gt;Avalanche conditions are most dange...</td>\n",
       "      <td>&lt;p&gt;Avalanche conditions are most dangerous on ...</td>\n",
       "      <td>Avalanche conditions are most dangerous on win...</td>\n",
       "      <td>2023-11-02</td>\n",
       "    </tr>\n",
       "    <tr>\n",
       "      <th>10</th>\n",
       "      <td>c86207e2-6a48-4f65-a449-68ea3f759ec7</td>\n",
       "      <td>2023-11-02T22:30:00Z</td>\n",
       "      <td>2023-11-02</td>\n",
       "      <td>2023-11-03T11:36:49Z</td>\n",
       "      <td>2023-11-03T22:30:00Z</td>\n",
       "      <td>issueDatePlusOne</td>\n",
       "      <td>low</td>\n",
       "      <td>low</td>\n",
       "      <td>low</td>\n",
       "      <td>{\"en\": \"&lt;p&gt;The areas where you may be most tem...</td>\n",
       "      <td>&lt;p&gt;The areas where you may be most tempted to ...</td>\n",
       "      <td>The areas where you may be most tempted to tra...</td>\n",
       "      <td>2023-11-02</td>\n",
       "    </tr>\n",
       "    <tr>\n",
       "      <th>11</th>\n",
       "      <td>d49d1461-8a31-4a16-a121-2a02da4c3af7</td>\n",
       "      <td>2023-11-02T22:30:00Z</td>\n",
       "      <td>2023-11-02</td>\n",
       "      <td>2023-11-03T11:36:40Z</td>\n",
       "      <td>2023-11-03T22:30:00Z</td>\n",
       "      <td>issueDatePlusOne</td>\n",
       "      <td>low</td>\n",
       "      <td>low</td>\n",
       "      <td>low</td>\n",
       "      <td>{\"en\": \"&lt;p&gt;Most slopes are free from avalanche...</td>\n",
       "      <td>&lt;p&gt;Most slopes are free from avalanches simply...</td>\n",
       "      <td>Most slopes are free from avalanches simply du...</td>\n",
       "      <td>2023-11-02</td>\n",
       "    </tr>\n",
       "    <tr>\n",
       "      <th>12</th>\n",
       "      <td>cae3c30e-42e1-40f7-8e1e-bdcef73c5d85</td>\n",
       "      <td>2023-11-02T22:30:00Z</td>\n",
       "      <td>2023-11-02</td>\n",
       "      <td>2023-11-02T22:51:18Z</td>\n",
       "      <td>2023-11-03T22:30:00Z</td>\n",
       "      <td>issueDatePlusOne</td>\n",
       "      <td>low</td>\n",
       "      <td>low</td>\n",
       "      <td>low</td>\n",
       "      <td>{\"en\": \"&lt;p&gt;The areas where you may be most tem...</td>\n",
       "      <td>&lt;p&gt;The areas where you may be most tempted to ...</td>\n",
       "      <td>The areas where you may be most tempted to tra...</td>\n",
       "      <td>2023-11-02</td>\n",
       "    </tr>\n",
       "  </tbody>\n",
       "</table>\n",
       "</div>"
      ],
      "text/plain": [
       "                                      id           Issued Date        date  \\\n",
       "5   0bb40c21-682a-4987-8a92-1ae9a4a00d40  2023-11-01T22:30:00Z  2023-11-01   \n",
       "9   f2ffe07c-7cc2-4a22-a6b5-05cbca464ff1  2023-11-02T22:30:00Z  2023-11-02   \n",
       "10  c86207e2-6a48-4f65-a449-68ea3f759ec7  2023-11-02T22:30:00Z  2023-11-02   \n",
       "11  d49d1461-8a31-4a16-a121-2a02da4c3af7  2023-11-02T22:30:00Z  2023-11-02   \n",
       "12  cae3c30e-42e1-40f7-8e1e-bdcef73c5d85  2023-11-02T22:30:00Z  2023-11-02   \n",
       "\n",
       "           Last Modified                Expiry               Day  \\\n",
       "5   2023-11-01T20:59:05Z  2023-11-02T22:30:00Z  issueDatePlusOne   \n",
       "9   2023-11-03T11:37:00Z  2023-11-03T22:30:00Z  issueDatePlusOne   \n",
       "10  2023-11-03T11:36:49Z  2023-11-03T22:30:00Z  issueDatePlusOne   \n",
       "11  2023-11-03T11:36:40Z  2023-11-03T22:30:00Z  issueDatePlusOne   \n",
       "12  2023-11-02T22:51:18Z  2023-11-03T22:30:00Z  issueDatePlusOne   \n",
       "\n",
       "   Above Treeline  Treeline Below Treeline  \\\n",
       "5             low       low            low   \n",
       "9        moderate  moderate            low   \n",
       "10            low       low            low   \n",
       "11            low       low            low   \n",
       "12            low       low            low   \n",
       "\n",
       "                                              Summary  \\\n",
       "5   {\"en\": \"<p>The only place where you can trigge...   \n",
       "9   {\"en\": \"<p>Avalanche conditions are most dange...   \n",
       "10  {\"en\": \"<p>The areas where you may be most tem...   \n",
       "11  {\"en\": \"<p>Most slopes are free from avalanche...   \n",
       "12  {\"en\": \"<p>The areas where you may be most tem...   \n",
       "\n",
       "                                           Summary_en  \\\n",
       "5   <p>The only place where you can trigger an ava...   \n",
       "9   <p>Avalanche conditions are most dangerous on ...   \n",
       "10  <p>The areas where you may be most tempted to ...   \n",
       "11  <p>Most slopes are free from avalanches simply...   \n",
       "12  <p>The areas where you may be most tempted to ...   \n",
       "\n",
       "                                        Summary_clean   datetime  \n",
       "5   The only place where you can trigger an avalan... 2023-11-01  \n",
       "9   Avalanche conditions are most dangerous on win... 2023-11-02  \n",
       "10  The areas where you may be most tempted to tra... 2023-11-02  \n",
       "11  Most slopes are free from avalanches simply du... 2023-11-02  \n",
       "12  The areas where you may be most tempted to tra... 2023-11-02  "
      ]
     },
     "execution_count": 24,
     "metadata": {},
     "output_type": "execute_result"
    }
   ],
   "source": [
    "forecast_df.head()"
   ]
  },
  {
   "cell_type": "code",
   "execution_count": 39,
   "id": "cfc069c0-9832-4b67-b44e-ae28aad81f66",
   "metadata": {},
   "outputs": [
    {
     "data": {
      "text/plain": [
       "id                0\n",
       "Issued Date       0\n",
       "date              0\n",
       "Last Modified     0\n",
       "Expiry            0\n",
       "Day               0\n",
       "Above Treeline    0\n",
       "Treeline          0\n",
       "Below Treeline    0\n",
       "Summary           0\n",
       "Summary_en        1\n",
       "Summary_clean     0\n",
       "datetime          0\n",
       "dtype: int64"
      ]
     },
     "execution_count": 39,
     "metadata": {},
     "output_type": "execute_result"
    }
   ],
   "source": [
    "forecast_df.isna().sum()"
   ]
  },
  {
   "cell_type": "code",
   "execution_count": 56,
   "id": "b6641306-07e3-4e98-af5a-3f03414bb1ad",
   "metadata": {},
   "outputs": [],
   "source": [
    "df = forecast_df[[\"datetime\", \"Above Treeline\", \"Treeline\", \"Below Treeline\", \"Summary_clean\"]]"
   ]
  },
  {
   "cell_type": "code",
   "execution_count": 57,
   "id": "f39669f6-cfee-4e30-a9e0-271ad644c9c5",
   "metadata": {},
   "outputs": [],
   "source": [
    "# pulling in manually pulled forecasts\n",
    "with open('manual_forecasts.json', 'r') as f:\n",
    "    manual_forecasts = json.load(f)\n",
    "\n",
    "manual_forecast_df = pd.DataFrame(manual_forecasts)"
   ]
  },
  {
   "cell_type": "code",
   "execution_count": 58,
   "id": "1b8d9ff1-8fe7-4cdd-aff3-9eaf3dbcc763",
   "metadata": {},
   "outputs": [],
   "source": [
    "manual_forecast_df[\"datetime\"] = pd.to_datetime(manual_forecast_df[\"date\"])"
   ]
  },
  {
   "cell_type": "code",
   "execution_count": 59,
   "id": "2073804f-fbca-4880-bb53-9d0e7c5fb2dc",
   "metadata": {},
   "outputs": [
    {
     "data": {
      "text/plain": [
       "date              0\n",
       "Above Treeline    0\n",
       "Treeline          0\n",
       "Below Treeline    0\n",
       "Summary_clean     0\n",
       "datetime          0\n",
       "dtype: int64"
      ]
     },
     "execution_count": 59,
     "metadata": {},
     "output_type": "execute_result"
    }
   ],
   "source": [
    "manual_forecast_df.isna().sum()"
   ]
  },
  {
   "cell_type": "code",
   "execution_count": 60,
   "id": "29435c5d-2cca-40f9-852c-4666467213f5",
   "metadata": {},
   "outputs": [
    {
     "data": {
      "text/plain": [
       "Index(['date', 'Above Treeline', 'Treeline', 'Below Treeline', 'Summary_clean',\n",
       "       'datetime'],\n",
       "      dtype='object')"
      ]
     },
     "execution_count": 60,
     "metadata": {},
     "output_type": "execute_result"
    }
   ],
   "source": [
    "manual_forecast_df.columns"
   ]
  },
  {
   "cell_type": "code",
   "execution_count": 61,
   "id": "a7903a8c-a3df-4ebe-bc87-0f89b9e303cc",
   "metadata": {},
   "outputs": [],
   "source": [
    "manual_forecast_df = manual_forecast_df.drop(columns=['date'])"
   ]
  },
  {
   "cell_type": "code",
   "execution_count": 62,
   "id": "197611bf-912d-42fd-98a5-f93e79cec698",
   "metadata": {},
   "outputs": [
    {
     "data": {
      "text/plain": [
       "(56, 5)"
      ]
     },
     "execution_count": 62,
     "metadata": {},
     "output_type": "execute_result"
    }
   ],
   "source": [
    "manual_forecast_df.shape"
   ]
  },
  {
   "cell_type": "code",
   "execution_count": 63,
   "id": "5be55503-7e5a-4fae-a5da-5ce7fa57b521",
   "metadata": {},
   "outputs": [
    {
     "data": {
      "text/plain": [
       "(2885, 5)"
      ]
     },
     "execution_count": 63,
     "metadata": {},
     "output_type": "execute_result"
    }
   ],
   "source": [
    "df.shape"
   ]
  },
  {
   "cell_type": "code",
   "execution_count": 64,
   "id": "f274cdae-d289-4964-8d95-ef55526ef5a2",
   "metadata": {},
   "outputs": [
    {
     "data": {
      "text/plain": [
       "Index(['Above Treeline', 'Treeline', 'Below Treeline', 'Summary_clean',\n",
       "       'datetime'],\n",
       "      dtype='object')"
      ]
     },
     "execution_count": 64,
     "metadata": {},
     "output_type": "execute_result"
    }
   ],
   "source": [
    "manual_forecast_df.columns"
   ]
  },
  {
   "cell_type": "code",
   "execution_count": 65,
   "id": "68307381-2d6b-4ac5-b03a-632d8624577c",
   "metadata": {},
   "outputs": [
    {
     "data": {
      "text/plain": [
       "Index(['datetime', 'Above Treeline', 'Treeline', 'Below Treeline',\n",
       "       'Summary_clean'],\n",
       "      dtype='object')"
      ]
     },
     "execution_count": 65,
     "metadata": {},
     "output_type": "execute_result"
    }
   ],
   "source": [
    "df.columns"
   ]
  },
  {
   "cell_type": "code",
   "execution_count": 66,
   "id": "d38554ff-2c32-45ba-863e-5af7ac7e6586",
   "metadata": {},
   "outputs": [],
   "source": [
    "# concat dfs\n",
    "df = pd.concat([df, manual_forecast_df], ignore_index=True)"
   ]
  },
  {
   "cell_type": "code",
   "execution_count": 67,
   "id": "0158ca2e-b814-43a3-bddc-408184febd55",
   "metadata": {},
   "outputs": [
    {
     "data": {
      "text/plain": [
       "(2941, 5)"
      ]
     },
     "execution_count": 67,
     "metadata": {},
     "output_type": "execute_result"
    }
   ],
   "source": [
    "df.shape"
   ]
  },
  {
   "cell_type": "code",
   "execution_count": 68,
   "id": "422721a0-550d-4183-92bf-037e0aec85e2",
   "metadata": {},
   "outputs": [
    {
     "data": {
      "text/plain": [
       "datetime          0\n",
       "Above Treeline    0\n",
       "Treeline          0\n",
       "Below Treeline    0\n",
       "Summary_clean     0\n",
       "dtype: int64"
      ]
     },
     "execution_count": 68,
     "metadata": {},
     "output_type": "execute_result"
    }
   ],
   "source": [
    "df.isna().sum()"
   ]
  },
  {
   "cell_type": "code",
   "execution_count": 69,
   "id": "ce32f657-7723-429e-80e7-4c2640fb457d",
   "metadata": {},
   "outputs": [
    {
     "data": {
      "text/html": [
       "<div>\n",
       "<style scoped>\n",
       "    .dataframe tbody tr th:only-of-type {\n",
       "        vertical-align: middle;\n",
       "    }\n",
       "\n",
       "    .dataframe tbody tr th {\n",
       "        vertical-align: top;\n",
       "    }\n",
       "\n",
       "    .dataframe thead th {\n",
       "        text-align: right;\n",
       "    }\n",
       "</style>\n",
       "<table border=\"1\" class=\"dataframe\">\n",
       "  <thead>\n",
       "    <tr style=\"text-align: right;\">\n",
       "      <th></th>\n",
       "      <th>datetime</th>\n",
       "      <th>Above Treeline</th>\n",
       "      <th>Treeline</th>\n",
       "      <th>Below Treeline</th>\n",
       "      <th>Summary_clean</th>\n",
       "    </tr>\n",
       "  </thead>\n",
       "  <tbody>\n",
       "    <tr>\n",
       "      <th>1004</th>\n",
       "      <td>2024-02-23</td>\n",
       "      <td>moderate</td>\n",
       "      <td>moderate</td>\n",
       "      <td>moderate</td>\n",
       "      <td>Dangerous avalanche conditions exist where win...</td>\n",
       "    </tr>\n",
       "  </tbody>\n",
       "</table>\n",
       "</div>"
      ],
      "text/plain": [
       "       datetime Above Treeline  Treeline Below Treeline  \\\n",
       "1004 2024-02-23       moderate  moderate       moderate   \n",
       "\n",
       "                                          Summary_clean  \n",
       "1004  Dangerous avalanche conditions exist where win...  "
      ]
     },
     "execution_count": 69,
     "metadata": {},
     "output_type": "execute_result"
    }
   ],
   "source": [
    "df.sample()"
   ]
  },
  {
   "cell_type": "code",
   "execution_count": 70,
   "id": "980bd62b-3750-4eac-99c2-332d3156efaf",
   "metadata": {},
   "outputs": [],
   "source": [
    "# create new csv\n",
    "df.to_csv(\"forecast_data.csv\", index=False)"
   ]
  },
  {
   "cell_type": "code",
   "execution_count": null,
   "id": "7167857d-a78d-4512-a6f9-c7cd7e64b734",
   "metadata": {},
   "outputs": [],
   "source": []
  }
 ],
 "metadata": {
  "kernelspec": {
   "display_name": "Python (tf-venv)",
   "language": "python",
   "name": "tf-venv"
  },
  "language_info": {
   "codemirror_mode": {
    "name": "ipython",
    "version": 3
   },
   "file_extension": ".py",
   "mimetype": "text/x-python",
   "name": "python",
   "nbconvert_exporter": "python",
   "pygments_lexer": "ipython3",
   "version": "3.11.11"
  }
 },
 "nbformat": 4,
 "nbformat_minor": 5
}
